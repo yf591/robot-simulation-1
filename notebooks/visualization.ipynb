{
 "cells": [
  {
   "cell_type": "markdown",
   "id": "4bb20a7d",
   "metadata": {},
   "source": [
    "# シミュレーション結果の可視化\n",
    "このノートブックでは、学習済みモデルの評価やシミュレーション動画の可視化を行います。"
   ]
  },
  {
   "cell_type": "code",
   "execution_count": 1,
   "id": "f57c2a66",
   "metadata": {},
   "outputs": [],
   "source": [
    "# 必要なライブラリのインポート\n",
    "import matplotlib.pyplot as plt\n",
    "import cv2\n",
    "import numpy as np"
   ]
  },
  {
   "cell_type": "code",
   "execution_count": null,
   "id": "4b82b704",
   "metadata": {},
   "outputs": [],
   "source": [
    "# 学習済みモデルの読み込み例\n",
    "from stable_baselines3 import PPO\n",
    "model = PPO.load(\"../models/food_gripper_model\")"
   ]
  },
  {
   "cell_type": "code",
   "execution_count": null,
   "id": "354a02a9",
   "metadata": {},
   "outputs": [],
   "source": [
    "# 動画ファイルの再生例\n",
    "video_path = \"sample_simulation.mp4\"\n",
    "cap = cv2.VideoCapture(video_path)\n",
    "while cap.isOpened():\n",
    "    ret, frame = cap.read()\n",
    "    if not ret:\n",
    "        break\n",
    "    cv2.imshow('Simulation', frame)\n",
    "    if cv2.waitKey(25) & 0xFF == ord('q'):\n",
    "        break\n",
    "cap.release()\n",
    "cv2.destroyAllWindows()"
   ]
  },
  {
   "cell_type": "code",
   "execution_count": null,
   "id": "4b49b07f",
   "metadata": {},
   "outputs": [],
   "source": [
    "import matplotlib.pyplot as plt\n",
    "import numpy as np\n",
    "# 仮の報酬データ\n",
    "episodes = np.arange(100)\n",
    "rewards = np.random.randn(100).cumsum()\n",
    "plt.plot(episodes, rewards)\n",
    "plt.title('報酬曲線')\n",
    "plt.xlabel('エピソード')\n",
    "plt.ylabel('累積報酬')\n",
    "plt.show()"
   ]
  },
  {
   "cell_type": "code",
   "execution_count": null,
   "id": "000acbe7",
   "metadata": {},
   "outputs": [],
   "source": [
    "from video.record import record_simulation\n",
    "from pybullet_sim.rl_env import FoodGripperEnv\n",
    "\n",
    "env = FoodGripperEnv()\n",
    "record_simulation(env, filename=\"output.mp4\", duration=2, fps=10)\n",
    "print(\"動画生成テスト完了\")"
   ]
  },
  {
   "cell_type": "code",
   "execution_count": null,
   "id": "5b81cbb3",
   "metadata": {},
   "outputs": [],
   "source": [
    "from video.editing import add_subtitle\n",
    "\n",
    "input_path = \"output.mp4\"\n",
    "output_path = \"output_with_subtitle.mp4\"\n",
    "add_subtitle(input_path, output_path, text=\"トマト選別: 傷ゼロ\", pos=(50, 400))\n",
    "print(\"字幕付き動画を生成しました\")"
   ]
  },
  {
   "cell_type": "code",
   "execution_count": null,
   "id": "c10baaf0",
   "metadata": {},
   "outputs": [],
   "source": [
    "from pybullet_sim.rl_env import FoodGripperEnv\n",
    "import time\n",
    "\n",
    "# PyBullet GUIで可視化\n",
    "env = FoodGripperEnv(gui=True)\n",
    "env.reset()\n",
    "for _ in range(240):  # 8秒間表示（30fps想定）\n",
    "    env.step(env.action_space.sample())\n",
    "    time.sleep(1/30)\n",
    "print(\"PyBulletウィンドウでロボットを可視化しました。\")"
   ]
  }
 ],
 "metadata": {
  "kernelspec": {
   "display_name": ".venv",
   "language": "python",
   "name": "python3"
  },
  "language_info": {
   "codemirror_mode": {
    "name": "ipython",
    "version": 3
   },
   "file_extension": ".py",
   "mimetype": "text/x-python",
   "name": "python",
   "nbconvert_exporter": "python",
   "pygments_lexer": "ipython3",
   "version": "3.12.4"
  }
 },
 "nbformat": 4,
 "nbformat_minor": 5
}
